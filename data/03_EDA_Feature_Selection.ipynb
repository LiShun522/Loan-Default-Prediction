{
 "cells": [
  {
   "cell_type": "code",
   "execution_count": null,
   "id": "2c665c4f-429a-4ab5-b6f7-2f88d65b7adc",
   "metadata": {},
   "outputs": [],
   "source": [
    "import numpy as np\n",
    "import pandas as pd\n",
    "data = pd.read_csv(\"data/train.csv\")\n",
    "df = pd.DataFrame(data)"
   ]
  },
  {
   "cell_type": "code",
   "execution_count": null,
   "id": "c779c159-4f55-409f-aa63-bd6e8328363f",
   "metadata": {},
   "outputs": [],
   "source": [
    "1️⃣ 類別型變數的 EDA"
   ]
  },
  {
   "cell_type": "code",
   "execution_count": null,
   "id": "94431eaa-5aa8-4cd4-9e76-ccc7dfd4689a",
   "metadata": {},
   "outputs": [],
   "source": [
    "import seaborn as sns\n",
    "import matplotlib.pyplot as plt\n",
    "\n",
    "categorical_cols = ['Home Ownership', 'Years in current job', 'Purpose', 'Term']\n",
    "\n",
    "plt.figure(figsize=(12, 8))\n",
    "for i, col in enumerate(categorical_cols, 1):\n",
    "    plt.subplot(2, 2, i)\n",
    "    sns.countplot(x=col, hue=\"Credit Default\", data=df)\n",
    "    plt.xticks(rotation=30)\n",
    "    plt.title(f\"{col} vs. Credit Default\")\n",
    "plt.tight_layout()\n",
    "plt.show()\n"
   ]
  },
  {
   "cell_type": "code",
   "execution_count": null,
   "id": "56631a67-659c-44a4-bae8-d8ee72c1e227",
   "metadata": {},
   "outputs": [],
   "source": []
  },
  {
   "cell_type": "code",
   "execution_count": null,
   "id": "c83d9fd7-87ec-4688-96a0-bfcb1be9c788",
   "metadata": {},
   "outputs": [],
   "source": []
  },
  {
   "cell_type": "code",
   "execution_count": null,
   "id": "e665c9b1-9618-4e97-98ae-c9cac75ba523",
   "metadata": {},
   "outputs": [],
   "source": []
  },
  {
   "cell_type": "code",
   "execution_count": null,
   "id": "8ccfd04a-c729-47cf-9ac3-bcd144dbdbdb",
   "metadata": {},
   "outputs": [],
   "source": []
  },
  {
   "cell_type": "code",
   "execution_count": null,
   "id": "c4f6b564-b040-4e5a-a50b-54d1aa7fb9ce",
   "metadata": {},
   "outputs": [],
   "source": []
  },
  {
   "cell_type": "code",
   "execution_count": null,
   "id": "0cd94e1d-7ea4-46b1-8f59-c8c75868fa20",
   "metadata": {},
   "outputs": [],
   "source": []
  },
  {
   "cell_type": "code",
   "execution_count": null,
   "id": "2801b670-f87f-48d6-8434-b5e449c143e0",
   "metadata": {},
   "outputs": [],
   "source": []
  },
  {
   "cell_type": "code",
   "execution_count": null,
   "id": "f7c71826-015c-416d-9c74-062528e4442b",
   "metadata": {},
   "outputs": [],
   "source": []
  },
  {
   "cell_type": "code",
   "execution_count": null,
   "id": "51f98fdf-5a9a-4206-bde1-4d448ac6ea51",
   "metadata": {},
   "outputs": [],
   "source": []
  },
  {
   "cell_type": "code",
   "execution_count": null,
   "id": "f646cd7f-3b1c-4b09-8dc9-1f60469d9257",
   "metadata": {},
   "outputs": [],
   "source": []
  },
  {
   "cell_type": "code",
   "execution_count": null,
   "id": "84711aea-c80d-4b79-a8ed-4a4d6aca5195",
   "metadata": {},
   "outputs": [],
   "source": []
  },
  {
   "cell_type": "code",
   "execution_count": null,
   "id": "de098e8d-5269-401b-b0bf-c8476a412a29",
   "metadata": {},
   "outputs": [],
   "source": []
  },
  {
   "cell_type": "code",
   "execution_count": null,
   "id": "60993795-36f1-430a-ad33-bde83d736568",
   "metadata": {},
   "outputs": [],
   "source": []
  },
  {
   "cell_type": "code",
   "execution_count": null,
   "id": "d77eac8a-d95f-4490-88f4-0f8ffb19ec06",
   "metadata": {},
   "outputs": [],
   "source": []
  },
  {
   "cell_type": "code",
   "execution_count": null,
   "id": "bfbe1b4c-fcd6-4f02-b365-e7ad8058a82c",
   "metadata": {},
   "outputs": [],
   "source": []
  },
  {
   "cell_type": "code",
   "execution_count": null,
   "id": "de55c009-d81b-4d8f-9e96-e127ccb9b098",
   "metadata": {},
   "outputs": [],
   "source": []
  }
 ],
 "metadata": {
  "kernelspec": {
   "display_name": "Python 3 (ipykernel)",
   "language": "python",
   "name": "python3"
  },
  "language_info": {
   "codemirror_mode": {
    "name": "ipython",
    "version": 3
   },
   "file_extension": ".py",
   "mimetype": "text/x-python",
   "name": "python",
   "nbconvert_exporter": "python",
   "pygments_lexer": "ipython3",
   "version": "3.11.9"
  }
 },
 "nbformat": 4,
 "nbformat_minor": 5
}
