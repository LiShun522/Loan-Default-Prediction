{
 "cells": [
  {
   "cell_type": "code",
   "execution_count": null,
   "id": "496c38c2-5550-4ff2-95a6-9215047abcaa",
   "metadata": {},
   "outputs": [],
   "source": [
    "\"\"\"\n",
    "欄位名稱\t繁體中文說明\n",
    "Id\t客戶 ID（唯一識別碼）\n",
    "Home Ownership\t房屋持有狀況（Own Home: 自有房產, Rent: 租房, Home Mortgage: 房貸）\n",
    "Annual Income\t年收入（申請人的年度收入）\n",
    "Years in current job\t目前工作的年數（如 10+ years, 5 years, <1 year，需轉換為數值）\n",
    "Tax Liens\t稅務留置權數量（是否因未繳稅款被政府扣押資產）\n",
    "Number of Open Accounts\t開啟的信貸帳戶數量（目前持有的信用卡、貸款數）\n",
    "Years of Credit History\t信用歷史年數（客戶擁有信貸紀錄的總年數）\n",
    "Maximum Open Credit\t最高可用信貸額度（過去曾獲得的最大信貸額度）\n",
    "Number of Credit Problems\t信用問題數量（如遲繳、違約等信用問題的總數）\n",
    "Months since last delinquent\t距離上次違約的月數（若為 0，代表未違約）\n",
    "Bankruptcies\t破產次數（申請人過去申請破產的次數）\n",
    "Purpose\t貸款用途（如 debt con: 債務整合, home im: 房屋裝修, other: 其他）\n",
    "Term\t貸款期限（Short: 短期貸款, Long: 長期貸款）\n",
    "Current Loan Amount\t目前貸款金額（客戶當前貸款的總金額）\n",
    "Current Credit Balance\t當前信用卡/貸款餘額（未償還的信貸餘額）\n",
    "Monthly Debt\t每月負債（申請人每月的貸款或信用卡還款額）\n",
    "Credit Score\t信用評分（數值型變數，影響違約風險）\n",
    "Credit Default\t是否違約（0=未違約，1=違約）（目標變數，分類問題）\n",
    "\"\"\""
   ]
  },
  {
   "cell_type": "code",
   "execution_count": 1,
   "id": "8e9b39c1-f519-4a70-a4b5-1cc31c10746f",
   "metadata": {},
   "outputs": [],
   "source": [
    "import numpy as np\n",
    "import pandas as pd\n",
    "data = pd.read_csv(\"data/train.csv\")\n",
    "df = pd.DataFrame(data)"
   ]
  },
  {
   "cell_type": "code",
   "execution_count": 7,
   "id": "17e68acd-10b3-4402-8f8c-b82fa01f9ed9",
   "metadata": {},
   "outputs": [
    {
     "data": {
      "text/html": [
       "<div>\n",
       "<style scoped>\n",
       "    .dataframe tbody tr th:only-of-type {\n",
       "        vertical-align: middle;\n",
       "    }\n",
       "\n",
       "    .dataframe tbody tr th {\n",
       "        vertical-align: top;\n",
       "    }\n",
       "\n",
       "    .dataframe thead th {\n",
       "        text-align: right;\n",
       "    }\n",
       "</style>\n",
       "<table border=\"1\" class=\"dataframe\">\n",
       "  <thead>\n",
       "    <tr style=\"text-align: right;\">\n",
       "      <th></th>\n",
       "      <th>Id</th>\n",
       "      <th>Home Ownership</th>\n",
       "      <th>Annual Income</th>\n",
       "      <th>Years in current job</th>\n",
       "      <th>Tax Liens</th>\n",
       "      <th>Number of Open Accounts</th>\n",
       "      <th>Years of Credit History</th>\n",
       "      <th>Maximum Open Credit</th>\n",
       "      <th>Number of Credit Problems</th>\n",
       "      <th>Months since last delinquent</th>\n",
       "      <th>Bankruptcies</th>\n",
       "      <th>Purpose</th>\n",
       "      <th>Term</th>\n",
       "      <th>Current Loan Amount</th>\n",
       "      <th>Current Credit Balance</th>\n",
       "      <th>Monthly Debt</th>\n",
       "      <th>Credit Score</th>\n",
       "      <th>Credit Default</th>\n",
       "    </tr>\n",
       "  </thead>\n",
       "  <tbody>\n",
       "    <tr>\n",
       "      <th>0</th>\n",
       "      <td>0</td>\n",
       "      <td>Own Home</td>\n",
       "      <td>482087.0</td>\n",
       "      <td>NaN</td>\n",
       "      <td>0.0</td>\n",
       "      <td>11.0</td>\n",
       "      <td>26.3</td>\n",
       "      <td>685960.0</td>\n",
       "      <td>1.0</td>\n",
       "      <td>NaN</td>\n",
       "      <td>1.0</td>\n",
       "      <td>debt consolidation</td>\n",
       "      <td>Short Term</td>\n",
       "      <td>99999999.0</td>\n",
       "      <td>47386.0</td>\n",
       "      <td>7914.0</td>\n",
       "      <td>749.0</td>\n",
       "      <td>0</td>\n",
       "    </tr>\n",
       "    <tr>\n",
       "      <th>1</th>\n",
       "      <td>1</td>\n",
       "      <td>Own Home</td>\n",
       "      <td>1025487.0</td>\n",
       "      <td>10+ years</td>\n",
       "      <td>0.0</td>\n",
       "      <td>15.0</td>\n",
       "      <td>15.3</td>\n",
       "      <td>1181730.0</td>\n",
       "      <td>0.0</td>\n",
       "      <td>NaN</td>\n",
       "      <td>0.0</td>\n",
       "      <td>debt consolidation</td>\n",
       "      <td>Long Term</td>\n",
       "      <td>264968.0</td>\n",
       "      <td>394972.0</td>\n",
       "      <td>18373.0</td>\n",
       "      <td>737.0</td>\n",
       "      <td>1</td>\n",
       "    </tr>\n",
       "    <tr>\n",
       "      <th>2</th>\n",
       "      <td>2</td>\n",
       "      <td>Home Mortgage</td>\n",
       "      <td>751412.0</td>\n",
       "      <td>8 years</td>\n",
       "      <td>0.0</td>\n",
       "      <td>11.0</td>\n",
       "      <td>35.0</td>\n",
       "      <td>1182434.0</td>\n",
       "      <td>0.0</td>\n",
       "      <td>NaN</td>\n",
       "      <td>0.0</td>\n",
       "      <td>debt consolidation</td>\n",
       "      <td>Short Term</td>\n",
       "      <td>99999999.0</td>\n",
       "      <td>308389.0</td>\n",
       "      <td>13651.0</td>\n",
       "      <td>742.0</td>\n",
       "      <td>0</td>\n",
       "    </tr>\n",
       "    <tr>\n",
       "      <th>3</th>\n",
       "      <td>3</td>\n",
       "      <td>Own Home</td>\n",
       "      <td>805068.0</td>\n",
       "      <td>6 years</td>\n",
       "      <td>0.0</td>\n",
       "      <td>8.0</td>\n",
       "      <td>22.5</td>\n",
       "      <td>147400.0</td>\n",
       "      <td>1.0</td>\n",
       "      <td>NaN</td>\n",
       "      <td>1.0</td>\n",
       "      <td>debt consolidation</td>\n",
       "      <td>Short Term</td>\n",
       "      <td>121396.0</td>\n",
       "      <td>95855.0</td>\n",
       "      <td>11338.0</td>\n",
       "      <td>694.0</td>\n",
       "      <td>0</td>\n",
       "    </tr>\n",
       "    <tr>\n",
       "      <th>4</th>\n",
       "      <td>4</td>\n",
       "      <td>Rent</td>\n",
       "      <td>776264.0</td>\n",
       "      <td>8 years</td>\n",
       "      <td>0.0</td>\n",
       "      <td>13.0</td>\n",
       "      <td>13.6</td>\n",
       "      <td>385836.0</td>\n",
       "      <td>1.0</td>\n",
       "      <td>NaN</td>\n",
       "      <td>0.0</td>\n",
       "      <td>debt consolidation</td>\n",
       "      <td>Short Term</td>\n",
       "      <td>125840.0</td>\n",
       "      <td>93309.0</td>\n",
       "      <td>7180.0</td>\n",
       "      <td>719.0</td>\n",
       "      <td>0</td>\n",
       "    </tr>\n",
       "  </tbody>\n",
       "</table>\n",
       "</div>"
      ],
      "text/plain": [
       "   Id Home Ownership  Annual Income Years in current job  Tax Liens  \\\n",
       "0   0       Own Home       482087.0                  NaN        0.0   \n",
       "1   1       Own Home      1025487.0            10+ years        0.0   \n",
       "2   2  Home Mortgage       751412.0              8 years        0.0   \n",
       "3   3       Own Home       805068.0              6 years        0.0   \n",
       "4   4           Rent       776264.0              8 years        0.0   \n",
       "\n",
       "   Number of Open Accounts  Years of Credit History  Maximum Open Credit  \\\n",
       "0                     11.0                     26.3             685960.0   \n",
       "1                     15.0                     15.3            1181730.0   \n",
       "2                     11.0                     35.0            1182434.0   \n",
       "3                      8.0                     22.5             147400.0   \n",
       "4                     13.0                     13.6             385836.0   \n",
       "\n",
       "   Number of Credit Problems  Months since last delinquent  Bankruptcies  \\\n",
       "0                        1.0                           NaN           1.0   \n",
       "1                        0.0                           NaN           0.0   \n",
       "2                        0.0                           NaN           0.0   \n",
       "3                        1.0                           NaN           1.0   \n",
       "4                        1.0                           NaN           0.0   \n",
       "\n",
       "              Purpose        Term  Current Loan Amount  \\\n",
       "0  debt consolidation  Short Term           99999999.0   \n",
       "1  debt consolidation   Long Term             264968.0   \n",
       "2  debt consolidation  Short Term           99999999.0   \n",
       "3  debt consolidation  Short Term             121396.0   \n",
       "4  debt consolidation  Short Term             125840.0   \n",
       "\n",
       "   Current Credit Balance  Monthly Debt  Credit Score  Credit Default  \n",
       "0                 47386.0        7914.0         749.0               0  \n",
       "1                394972.0       18373.0         737.0               1  \n",
       "2                308389.0       13651.0         742.0               0  \n",
       "3                 95855.0       11338.0         694.0               0  \n",
       "4                 93309.0        7180.0         719.0               0  "
      ]
     },
     "execution_count": 7,
     "metadata": {},
     "output_type": "execute_result"
    }
   ],
   "source": [
    "# 1️⃣ 查看前幾筆數據\n",
    "df.head()"
   ]
  },
  {
   "cell_type": "code",
   "execution_count": 8,
   "id": "3628148f-0757-4288-af25-3290232a1ab1",
   "metadata": {},
   "outputs": [
    {
     "name": "stdout",
     "output_type": "stream",
     "text": [
      "<class 'pandas.core.frame.DataFrame'>\n",
      "RangeIndex: 7500 entries, 0 to 7499\n",
      "Data columns (total 18 columns):\n",
      " #   Column                        Non-Null Count  Dtype  \n",
      "---  ------                        --------------  -----  \n",
      " 0   Id                            7500 non-null   int64  \n",
      " 1   Home Ownership                7500 non-null   object \n",
      " 2   Annual Income                 5943 non-null   float64\n",
      " 3   Years in current job          7129 non-null   object \n",
      " 4   Tax Liens                     7500 non-null   float64\n",
      " 5   Number of Open Accounts       7500 non-null   float64\n",
      " 6   Years of Credit History       7500 non-null   float64\n",
      " 7   Maximum Open Credit           7500 non-null   float64\n",
      " 8   Number of Credit Problems     7500 non-null   float64\n",
      " 9   Months since last delinquent  3419 non-null   float64\n",
      " 10  Bankruptcies                  7486 non-null   float64\n",
      " 11  Purpose                       7500 non-null   object \n",
      " 12  Term                          7500 non-null   object \n",
      " 13  Current Loan Amount           7500 non-null   float64\n",
      " 14  Current Credit Balance        7500 non-null   float64\n",
      " 15  Monthly Debt                  7500 non-null   float64\n",
      " 16  Credit Score                  5943 non-null   float64\n",
      " 17  Credit Default                7500 non-null   int64  \n",
      "dtypes: float64(12), int64(2), object(4)\n",
      "memory usage: 1.0+ MB\n"
     ]
    }
   ],
   "source": [
    "# 2️⃣ 查看數據結構（欄位名稱、數據型態、缺失值）\n",
    "df.info()"
   ]
  },
  {
   "cell_type": "code",
   "execution_count": 9,
   "id": "7952485f-222a-4f5c-82d8-f822db128748",
   "metadata": {},
   "outputs": [
    {
     "data": {
      "text/html": [
       "<div>\n",
       "<style scoped>\n",
       "    .dataframe tbody tr th:only-of-type {\n",
       "        vertical-align: middle;\n",
       "    }\n",
       "\n",
       "    .dataframe tbody tr th {\n",
       "        vertical-align: top;\n",
       "    }\n",
       "\n",
       "    .dataframe thead th {\n",
       "        text-align: right;\n",
       "    }\n",
       "</style>\n",
       "<table border=\"1\" class=\"dataframe\">\n",
       "  <thead>\n",
       "    <tr style=\"text-align: right;\">\n",
       "      <th></th>\n",
       "      <th>Id</th>\n",
       "      <th>Annual Income</th>\n",
       "      <th>Tax Liens</th>\n",
       "      <th>Number of Open Accounts</th>\n",
       "      <th>Years of Credit History</th>\n",
       "      <th>Maximum Open Credit</th>\n",
       "      <th>Number of Credit Problems</th>\n",
       "      <th>Months since last delinquent</th>\n",
       "      <th>Bankruptcies</th>\n",
       "      <th>Current Loan Amount</th>\n",
       "      <th>Current Credit Balance</th>\n",
       "      <th>Monthly Debt</th>\n",
       "      <th>Credit Score</th>\n",
       "      <th>Credit Default</th>\n",
       "    </tr>\n",
       "  </thead>\n",
       "  <tbody>\n",
       "    <tr>\n",
       "      <th>count</th>\n",
       "      <td>7500.000000</td>\n",
       "      <td>5.943000e+03</td>\n",
       "      <td>7500.000000</td>\n",
       "      <td>7500.000000</td>\n",
       "      <td>7500.000000</td>\n",
       "      <td>7.500000e+03</td>\n",
       "      <td>7500.000000</td>\n",
       "      <td>3419.000000</td>\n",
       "      <td>7486.000000</td>\n",
       "      <td>7.500000e+03</td>\n",
       "      <td>7.500000e+03</td>\n",
       "      <td>7500.000000</td>\n",
       "      <td>5943.000000</td>\n",
       "      <td>7500.000000</td>\n",
       "    </tr>\n",
       "    <tr>\n",
       "      <th>mean</th>\n",
       "      <td>3749.500000</td>\n",
       "      <td>1.366392e+06</td>\n",
       "      <td>0.030133</td>\n",
       "      <td>11.130933</td>\n",
       "      <td>18.317467</td>\n",
       "      <td>9.451537e+05</td>\n",
       "      <td>0.170000</td>\n",
       "      <td>34.692600</td>\n",
       "      <td>0.117152</td>\n",
       "      <td>1.187318e+07</td>\n",
       "      <td>2.898332e+05</td>\n",
       "      <td>18314.454133</td>\n",
       "      <td>1151.087498</td>\n",
       "      <td>0.281733</td>\n",
       "    </tr>\n",
       "    <tr>\n",
       "      <th>std</th>\n",
       "      <td>2165.207842</td>\n",
       "      <td>8.453392e+05</td>\n",
       "      <td>0.271604</td>\n",
       "      <td>4.908924</td>\n",
       "      <td>7.041946</td>\n",
       "      <td>1.602622e+07</td>\n",
       "      <td>0.498598</td>\n",
       "      <td>21.688806</td>\n",
       "      <td>0.347192</td>\n",
       "      <td>3.192612e+07</td>\n",
       "      <td>3.178714e+05</td>\n",
       "      <td>11926.764673</td>\n",
       "      <td>1604.451418</td>\n",
       "      <td>0.449874</td>\n",
       "    </tr>\n",
       "    <tr>\n",
       "      <th>min</th>\n",
       "      <td>0.000000</td>\n",
       "      <td>1.645970e+05</td>\n",
       "      <td>0.000000</td>\n",
       "      <td>2.000000</td>\n",
       "      <td>4.000000</td>\n",
       "      <td>0.000000e+00</td>\n",
       "      <td>0.000000</td>\n",
       "      <td>0.000000</td>\n",
       "      <td>0.000000</td>\n",
       "      <td>1.124200e+04</td>\n",
       "      <td>0.000000e+00</td>\n",
       "      <td>0.000000</td>\n",
       "      <td>585.000000</td>\n",
       "      <td>0.000000</td>\n",
       "    </tr>\n",
       "    <tr>\n",
       "      <th>25%</th>\n",
       "      <td>1874.750000</td>\n",
       "      <td>8.443410e+05</td>\n",
       "      <td>0.000000</td>\n",
       "      <td>8.000000</td>\n",
       "      <td>13.500000</td>\n",
       "      <td>2.792295e+05</td>\n",
       "      <td>0.000000</td>\n",
       "      <td>16.000000</td>\n",
       "      <td>0.000000</td>\n",
       "      <td>1.801690e+05</td>\n",
       "      <td>1.142565e+05</td>\n",
       "      <td>10067.500000</td>\n",
       "      <td>711.000000</td>\n",
       "      <td>0.000000</td>\n",
       "    </tr>\n",
       "    <tr>\n",
       "      <th>50%</th>\n",
       "      <td>3749.500000</td>\n",
       "      <td>1.168386e+06</td>\n",
       "      <td>0.000000</td>\n",
       "      <td>10.000000</td>\n",
       "      <td>17.000000</td>\n",
       "      <td>4.781590e+05</td>\n",
       "      <td>0.000000</td>\n",
       "      <td>32.000000</td>\n",
       "      <td>0.000000</td>\n",
       "      <td>3.095730e+05</td>\n",
       "      <td>2.093230e+05</td>\n",
       "      <td>16076.500000</td>\n",
       "      <td>731.000000</td>\n",
       "      <td>0.000000</td>\n",
       "    </tr>\n",
       "    <tr>\n",
       "      <th>75%</th>\n",
       "      <td>5624.250000</td>\n",
       "      <td>1.640137e+06</td>\n",
       "      <td>0.000000</td>\n",
       "      <td>14.000000</td>\n",
       "      <td>21.800000</td>\n",
       "      <td>7.935015e+05</td>\n",
       "      <td>0.000000</td>\n",
       "      <td>50.000000</td>\n",
       "      <td>0.000000</td>\n",
       "      <td>5.198820e+05</td>\n",
       "      <td>3.604062e+05</td>\n",
       "      <td>23818.000000</td>\n",
       "      <td>743.000000</td>\n",
       "      <td>1.000000</td>\n",
       "    </tr>\n",
       "    <tr>\n",
       "      <th>max</th>\n",
       "      <td>7499.000000</td>\n",
       "      <td>1.014934e+07</td>\n",
       "      <td>7.000000</td>\n",
       "      <td>43.000000</td>\n",
       "      <td>57.700000</td>\n",
       "      <td>1.304726e+09</td>\n",
       "      <td>7.000000</td>\n",
       "      <td>118.000000</td>\n",
       "      <td>4.000000</td>\n",
       "      <td>1.000000e+08</td>\n",
       "      <td>6.506797e+06</td>\n",
       "      <td>136679.000000</td>\n",
       "      <td>7510.000000</td>\n",
       "      <td>1.000000</td>\n",
       "    </tr>\n",
       "  </tbody>\n",
       "</table>\n",
       "</div>"
      ],
      "text/plain": [
       "                Id  Annual Income    Tax Liens  Number of Open Accounts  \\\n",
       "count  7500.000000   5.943000e+03  7500.000000              7500.000000   \n",
       "mean   3749.500000   1.366392e+06     0.030133                11.130933   \n",
       "std    2165.207842   8.453392e+05     0.271604                 4.908924   \n",
       "min       0.000000   1.645970e+05     0.000000                 2.000000   \n",
       "25%    1874.750000   8.443410e+05     0.000000                 8.000000   \n",
       "50%    3749.500000   1.168386e+06     0.000000                10.000000   \n",
       "75%    5624.250000   1.640137e+06     0.000000                14.000000   \n",
       "max    7499.000000   1.014934e+07     7.000000                43.000000   \n",
       "\n",
       "       Years of Credit History  Maximum Open Credit  \\\n",
       "count              7500.000000         7.500000e+03   \n",
       "mean                 18.317467         9.451537e+05   \n",
       "std                   7.041946         1.602622e+07   \n",
       "min                   4.000000         0.000000e+00   \n",
       "25%                  13.500000         2.792295e+05   \n",
       "50%                  17.000000         4.781590e+05   \n",
       "75%                  21.800000         7.935015e+05   \n",
       "max                  57.700000         1.304726e+09   \n",
       "\n",
       "       Number of Credit Problems  Months since last delinquent  Bankruptcies  \\\n",
       "count                7500.000000                   3419.000000   7486.000000   \n",
       "mean                    0.170000                     34.692600      0.117152   \n",
       "std                     0.498598                     21.688806      0.347192   \n",
       "min                     0.000000                      0.000000      0.000000   \n",
       "25%                     0.000000                     16.000000      0.000000   \n",
       "50%                     0.000000                     32.000000      0.000000   \n",
       "75%                     0.000000                     50.000000      0.000000   \n",
       "max                     7.000000                    118.000000      4.000000   \n",
       "\n",
       "       Current Loan Amount  Current Credit Balance   Monthly Debt  \\\n",
       "count         7.500000e+03            7.500000e+03    7500.000000   \n",
       "mean          1.187318e+07            2.898332e+05   18314.454133   \n",
       "std           3.192612e+07            3.178714e+05   11926.764673   \n",
       "min           1.124200e+04            0.000000e+00       0.000000   \n",
       "25%           1.801690e+05            1.142565e+05   10067.500000   \n",
       "50%           3.095730e+05            2.093230e+05   16076.500000   \n",
       "75%           5.198820e+05            3.604062e+05   23818.000000   \n",
       "max           1.000000e+08            6.506797e+06  136679.000000   \n",
       "\n",
       "       Credit Score  Credit Default  \n",
       "count   5943.000000     7500.000000  \n",
       "mean    1151.087498        0.281733  \n",
       "std     1604.451418        0.449874  \n",
       "min      585.000000        0.000000  \n",
       "25%      711.000000        0.000000  \n",
       "50%      731.000000        0.000000  \n",
       "75%      743.000000        1.000000  \n",
       "max     7510.000000        1.000000  "
      ]
     },
     "execution_count": 9,
     "metadata": {},
     "output_type": "execute_result"
    }
   ],
   "source": [
    "# 3️⃣ 查看數據統計摘要（只適用於數值型）\n",
    "df.describe()"
   ]
  },
  {
   "cell_type": "code",
   "execution_count": 10,
   "id": "4f7de4f1-200b-45ca-aabb-629a37274539",
   "metadata": {},
   "outputs": [
    {
     "data": {
      "text/plain": [
       "Id                                 0\n",
       "Home Ownership                     0\n",
       "Annual Income                   1557\n",
       "Years in current job             371\n",
       "Tax Liens                          0\n",
       "Number of Open Accounts            0\n",
       "Years of Credit History            0\n",
       "Maximum Open Credit                0\n",
       "Number of Credit Problems          0\n",
       "Months since last delinquent    4081\n",
       "Bankruptcies                      14\n",
       "Purpose                            0\n",
       "Term                               0\n",
       "Current Loan Amount                0\n",
       "Current Credit Balance             0\n",
       "Monthly Debt                       0\n",
       "Credit Score                    1557\n",
       "Credit Default                     0\n",
       "dtype: int64"
      ]
     },
     "execution_count": 10,
     "metadata": {},
     "output_type": "execute_result"
    }
   ],
   "source": [
    "# 4️⃣ 檢查缺失值\n",
    "df.isnull().sum()"
   ]
  },
  {
   "cell_type": "code",
   "execution_count": 11,
   "id": "d128ca35-c1fc-48d5-956c-9c2f73a73885",
   "metadata": {},
   "outputs": [
    {
     "name": "stdout",
     "output_type": "stream",
     "text": [
      "數值型欄位: ['Id', 'Annual Income', 'Tax Liens', 'Number of Open Accounts', 'Years of Credit History', 'Maximum Open Credit', 'Number of Credit Problems', 'Months since last delinquent', 'Bankruptcies', 'Current Loan Amount', 'Current Credit Balance', 'Monthly Debt', 'Credit Score', 'Credit Default']\n",
      "類別型欄位: ['Home Ownership', 'Years in current job', 'Purpose', 'Term']\n"
     ]
    }
   ],
   "source": [
    "# 5️⃣ 確認數值型與類別型欄位\n",
    "num_cols = df.select_dtypes(include=['number']).columns\n",
    "cat_cols = df.select_dtypes(include=['object']).columns\n",
    "\n",
    "print(\"數值型欄位:\", num_cols.tolist())\n",
    "print(\"類別型欄位:\", cat_cols.tolist())\n"
   ]
  },
  {
   "cell_type": "code",
   "execution_count": null,
   "id": "99b90058-5aa7-49f6-a39c-4280cef4feff",
   "metadata": {},
   "outputs": [],
   "source": []
  },
  {
   "cell_type": "code",
   "execution_count": null,
   "id": "1543d8e9-40d1-4cc3-879a-6142d4ef2091",
   "metadata": {},
   "outputs": [],
   "source": [
    "# 先從缺失值探勘"
   ]
  },
  {
   "cell_type": "code",
   "execution_count": null,
   "id": "71c89956-3747-4120-91fb-6231a6f41510",
   "metadata": {},
   "outputs": [],
   "source": [
    "# Annual Income 缺失部分"
   ]
  },
  {
   "cell_type": "code",
   "execution_count": 4,
   "id": "d4a8ec75-cccb-4a9e-8065-e6557d189b7d",
   "metadata": {},
   "outputs": [
    {
     "name": "stdout",
     "output_type": "stream",
     "text": [
      "全部都對應\n"
     ]
    }
   ],
   "source": [
    "# 缺失 1557 (20.76%) 算是缺失高，且收入是重要的值 !!\n",
    "# 缺失 1557 (20.76%) Credit Score 相同，所以可能是 系統性缺失（Not Missing At Random, NMAR），因為沒收入是算不出評分的。\n",
    "# 驗證1:\n",
    "# 我想要先算出 Annual Income 缺失部分，是否 Credit Score欄位也是缺失\n",
    "for i in range(7500):\n",
    "    if bool(df[\"Annual Income\"][i]) !=  bool(df[\"Credit Score\"][i]):\n",
    "        print(\"第\"+ str(i) + \"個的bool不同\")\n",
    "    else:\n",
    "        pass\n",
    "print(\"全部都對應\")\n",
    "# 證明是系統性"
   ]
  },
  {
   "cell_type": "code",
   "execution_count": 3,
   "id": "e9cee4af-9a97-48fd-a1b5-7cca6564d306",
   "metadata": {},
   "outputs": [
    {
     "name": "stdout",
     "output_type": "stream",
     "text": [
      "發現有違約的樣本數： 529\n"
     ]
    }
   ],
   "source": [
    "# 驗證2：檢查 Annual Income 缺失時，Credit Default 是否為 0\n",
    "missing_income_default = df[df[\"Annual Income\"].isna()][\"Credit Default\"]\n",
    "\n",
    "# 檢查所有缺失 Annual Income 的行是否 Credit Default 皆為 0\n",
    "if (missing_income_default == 0).all():\n",
    "    print(\"全部缺失收入的樣本皆無違約\")\n",
    "else:\n",
    "    print(\"發現有違約的樣本數：\", (missing_income_default == 1).sum())\n",
    "# 證明非系統性"
   ]
  },
  {
   "cell_type": "code",
   "execution_count": null,
   "id": "6967505d-69a7-462a-ada3-15dab63c17e5",
   "metadata": {},
   "outputs": [],
   "source": [
    "# 結論 Annual Income缺失 1557(20.76%) 與 Credit Score 相同，系統性缺失\n",
    "# 但與 Credit Default 就並非系統性缺失，有529個違約樣本"
   ]
  },
  {
   "cell_type": "code",
   "execution_count": null,
   "id": "75c4b35b-5908-453c-a8ac-52bc10f2e0ce",
   "metadata": {},
   "outputs": [],
   "source": [
    "# Years in current job 缺失值 為object"
   ]
  },
  {
   "cell_type": "code",
   "execution_count": 9,
   "id": "517f0aac-4262-4f1a-9c3a-c5fa2f1bfc29",
   "metadata": {},
   "outputs": [
    {
     "name": "stdout",
     "output_type": "stream",
     "text": [
      "371\n",
      "[nan '10+ years' '8 years' '6 years' '7 years' '5 years' '1 year'\n",
      " '< 1 year' '4 years' '3 years' '2 years' '9 years']\n",
      "11\n"
     ]
    }
   ],
   "source": [
    "# 找出物件種類與數量\n",
    "print(df[\"Years in current job\"].isnull().sum())\n",
    "print(df[\"Years in current job\"].unique())\n",
    "print(df[\"Years in current job\"].nunique())"
   ]
  },
  {
   "cell_type": "code",
   "execution_count": null,
   "id": "3cd3e163-59e7-42b7-8c1d-3c2f790738f2",
   "metadata": {},
   "outputs": [],
   "source": [
    "# 共11種類別，有nan缺失值371 ，從小餘1年以下到10年以上"
   ]
  },
  {
   "cell_type": "code",
   "execution_count": null,
   "id": "5e1ba15b-7769-479b-a102-354149c68abf",
   "metadata": {},
   "outputs": [],
   "source": [
    "# 1. 想知道 nan是否有違約\n",
    "# 2. 本想用 LabelEncodeer處理，因為是大小問題，但順序可能會有誤，所以不用，還是使用map方式，找出與其他相關性"
   ]
  },
  {
   "cell_type": "code",
   "execution_count": 10,
   "id": "c16cf8ec-27d0-4fa7-a4ef-3e1517ae04e5",
   "metadata": {},
   "outputs": [
    {
     "name": "stdout",
     "output_type": "stream",
     "text": [
      "Credit Default\n",
      "0    0.630728\n",
      "1    0.369272\n",
      "Name: proportion, dtype: float64\n"
     ]
    }
   ],
   "source": [
    "# 驗證1:\n",
    "print(df[df[\"Years in current job\"].isnull()][\"Credit Default\"].value_counts(normalize=True))"
   ]
  },
  {
   "cell_type": "code",
   "execution_count": null,
   "id": "297da056-7973-4a37-8b04-24a91ffd1d42",
   "metadata": {},
   "outputs": [],
   "source": [
    "# 結果: 371個 nan中，未違約 63.0728% 違約 36.9272% 所以非系統性"
   ]
  },
  {
   "cell_type": "code",
   "execution_count": 13,
   "id": "794cbe1f-08d8-4464-b9a5-4a5eceaebbd8",
   "metadata": {},
   "outputs": [
    {
     "name": "stdout",
     "output_type": "stream",
     "text": [
      "371\n"
     ]
    }
   ],
   "source": [
    "# 驗證2:\n",
    "# 先將 Years in current job 數值化\n",
    "job_mapping = {\n",
    "    '< 1 year': 0.5,\n",
    "    '1 year': 1,\n",
    "    '2 years': 2,\n",
    "    '3 years': 3,\n",
    "    '4 years': 4,\n",
    "    '5 years': 5,\n",
    "    '6 years': 6,\n",
    "    '7 years': 7,\n",
    "    '8 years': 8,\n",
    "    '9 years': 9,\n",
    "    '10+ years': 10\n",
    "}\n",
    "\n",
    "# 應用數值轉換\n",
    "df['Years in current job'] = df['Years in current job'].map(job_mapping)\n",
    "# 先檢查有多少 NaN\n",
    "print(df['Years in current job'].isnull().sum())"
   ]
  },
  {
   "cell_type": "code",
   "execution_count": 15,
   "id": "7199e382-93d8-4ff9-902d-c64c9487a35b",
   "metadata": {},
   "outputs": [
    {
     "ename": "ValueError",
     "evalue": "could not convert string to float: 'Own Home'",
     "output_type": "error",
     "traceback": [
      "\u001b[1;31m---------------------------------------------------------------------------\u001b[0m",
      "\u001b[1;31mValueError\u001b[0m                                Traceback (most recent call last)",
      "Cell \u001b[1;32mIn[15], line 2\u001b[0m\n\u001b[0;32m      1\u001b[0m \u001b[38;5;66;03m# 計算相關矩陣\u001b[39;00m\n\u001b[1;32m----> 2\u001b[0m correlation_matrix \u001b[38;5;241m=\u001b[39m \u001b[43mdf\u001b[49m\u001b[38;5;241;43m.\u001b[39;49m\u001b[43mcorr\u001b[49m\u001b[43m(\u001b[49m\u001b[43m)\u001b[49m\n\u001b[0;32m      4\u001b[0m \u001b[38;5;66;03m# # 取出與 'Years in current job' 相關的變數，按相關性排序\u001b[39;00m\n\u001b[0;32m      5\u001b[0m \u001b[38;5;66;03m# job_corr = correlation_matrix[\"Years in current job\"].abs().sort_values(ascending=False)\u001b[39;00m\n\u001b[0;32m      6\u001b[0m \n\u001b[0;32m      7\u001b[0m \u001b[38;5;66;03m# # 顯示前 10 個最相關變數\u001b[39;00m\n\u001b[0;32m      8\u001b[0m \u001b[38;5;66;03m# print(job_corr.head(10))\u001b[39;00m\n",
      "File \u001b[1;32m~\\AppData\\Local\\Programs\\Python\\Python311\\Lib\\site-packages\\pandas\\core\\frame.py:11049\u001b[0m, in \u001b[0;36mDataFrame.corr\u001b[1;34m(self, method, min_periods, numeric_only)\u001b[0m\n\u001b[0;32m  11047\u001b[0m cols \u001b[38;5;241m=\u001b[39m data\u001b[38;5;241m.\u001b[39mcolumns\n\u001b[0;32m  11048\u001b[0m idx \u001b[38;5;241m=\u001b[39m cols\u001b[38;5;241m.\u001b[39mcopy()\n\u001b[1;32m> 11049\u001b[0m mat \u001b[38;5;241m=\u001b[39m \u001b[43mdata\u001b[49m\u001b[38;5;241;43m.\u001b[39;49m\u001b[43mto_numpy\u001b[49m\u001b[43m(\u001b[49m\u001b[43mdtype\u001b[49m\u001b[38;5;241;43m=\u001b[39;49m\u001b[38;5;28;43mfloat\u001b[39;49m\u001b[43m,\u001b[49m\u001b[43m \u001b[49m\u001b[43mna_value\u001b[49m\u001b[38;5;241;43m=\u001b[39;49m\u001b[43mnp\u001b[49m\u001b[38;5;241;43m.\u001b[39;49m\u001b[43mnan\u001b[49m\u001b[43m,\u001b[49m\u001b[43m \u001b[49m\u001b[43mcopy\u001b[49m\u001b[38;5;241;43m=\u001b[39;49m\u001b[38;5;28;43;01mFalse\u001b[39;49;00m\u001b[43m)\u001b[49m\n\u001b[0;32m  11051\u001b[0m \u001b[38;5;28;01mif\u001b[39;00m method \u001b[38;5;241m==\u001b[39m \u001b[38;5;124m\"\u001b[39m\u001b[38;5;124mpearson\u001b[39m\u001b[38;5;124m\"\u001b[39m:\n\u001b[0;32m  11052\u001b[0m     correl \u001b[38;5;241m=\u001b[39m libalgos\u001b[38;5;241m.\u001b[39mnancorr(mat, minp\u001b[38;5;241m=\u001b[39mmin_periods)\n",
      "File \u001b[1;32m~\\AppData\\Local\\Programs\\Python\\Python311\\Lib\\site-packages\\pandas\\core\\frame.py:1993\u001b[0m, in \u001b[0;36mDataFrame.to_numpy\u001b[1;34m(self, dtype, copy, na_value)\u001b[0m\n\u001b[0;32m   1991\u001b[0m \u001b[38;5;28;01mif\u001b[39;00m dtype \u001b[38;5;129;01mis\u001b[39;00m \u001b[38;5;129;01mnot\u001b[39;00m \u001b[38;5;28;01mNone\u001b[39;00m:\n\u001b[0;32m   1992\u001b[0m     dtype \u001b[38;5;241m=\u001b[39m np\u001b[38;5;241m.\u001b[39mdtype(dtype)\n\u001b[1;32m-> 1993\u001b[0m result \u001b[38;5;241m=\u001b[39m \u001b[38;5;28;43mself\u001b[39;49m\u001b[38;5;241;43m.\u001b[39;49m\u001b[43m_mgr\u001b[49m\u001b[38;5;241;43m.\u001b[39;49m\u001b[43mas_array\u001b[49m\u001b[43m(\u001b[49m\u001b[43mdtype\u001b[49m\u001b[38;5;241;43m=\u001b[39;49m\u001b[43mdtype\u001b[49m\u001b[43m,\u001b[49m\u001b[43m \u001b[49m\u001b[43mcopy\u001b[49m\u001b[38;5;241;43m=\u001b[39;49m\u001b[43mcopy\u001b[49m\u001b[43m,\u001b[49m\u001b[43m \u001b[49m\u001b[43mna_value\u001b[49m\u001b[38;5;241;43m=\u001b[39;49m\u001b[43mna_value\u001b[49m\u001b[43m)\u001b[49m\n\u001b[0;32m   1994\u001b[0m \u001b[38;5;28;01mif\u001b[39;00m result\u001b[38;5;241m.\u001b[39mdtype \u001b[38;5;129;01mis\u001b[39;00m \u001b[38;5;129;01mnot\u001b[39;00m dtype:\n\u001b[0;32m   1995\u001b[0m     result \u001b[38;5;241m=\u001b[39m np\u001b[38;5;241m.\u001b[39masarray(result, dtype\u001b[38;5;241m=\u001b[39mdtype)\n",
      "File \u001b[1;32m~\\AppData\\Local\\Programs\\Python\\Python311\\Lib\\site-packages\\pandas\\core\\internals\\managers.py:1694\u001b[0m, in \u001b[0;36mBlockManager.as_array\u001b[1;34m(self, dtype, copy, na_value)\u001b[0m\n\u001b[0;32m   1692\u001b[0m         arr\u001b[38;5;241m.\u001b[39mflags\u001b[38;5;241m.\u001b[39mwriteable \u001b[38;5;241m=\u001b[39m \u001b[38;5;28;01mFalse\u001b[39;00m\n\u001b[0;32m   1693\u001b[0m \u001b[38;5;28;01melse\u001b[39;00m:\n\u001b[1;32m-> 1694\u001b[0m     arr \u001b[38;5;241m=\u001b[39m \u001b[38;5;28;43mself\u001b[39;49m\u001b[38;5;241;43m.\u001b[39;49m\u001b[43m_interleave\u001b[49m\u001b[43m(\u001b[49m\u001b[43mdtype\u001b[49m\u001b[38;5;241;43m=\u001b[39;49m\u001b[43mdtype\u001b[49m\u001b[43m,\u001b[49m\u001b[43m \u001b[49m\u001b[43mna_value\u001b[49m\u001b[38;5;241;43m=\u001b[39;49m\u001b[43mna_value\u001b[49m\u001b[43m)\u001b[49m\n\u001b[0;32m   1695\u001b[0m     \u001b[38;5;66;03m# The underlying data was copied within _interleave, so no need\u001b[39;00m\n\u001b[0;32m   1696\u001b[0m     \u001b[38;5;66;03m# to further copy if copy=True or setting na_value\u001b[39;00m\n\u001b[0;32m   1698\u001b[0m \u001b[38;5;28;01mif\u001b[39;00m na_value \u001b[38;5;129;01mis\u001b[39;00m lib\u001b[38;5;241m.\u001b[39mno_default:\n",
      "File \u001b[1;32m~\\AppData\\Local\\Programs\\Python\\Python311\\Lib\\site-packages\\pandas\\core\\internals\\managers.py:1753\u001b[0m, in \u001b[0;36mBlockManager._interleave\u001b[1;34m(self, dtype, na_value)\u001b[0m\n\u001b[0;32m   1751\u001b[0m     \u001b[38;5;28;01melse\u001b[39;00m:\n\u001b[0;32m   1752\u001b[0m         arr \u001b[38;5;241m=\u001b[39m blk\u001b[38;5;241m.\u001b[39mget_values(dtype)\n\u001b[1;32m-> 1753\u001b[0m     \u001b[43mresult\u001b[49m\u001b[43m[\u001b[49m\u001b[43mrl\u001b[49m\u001b[38;5;241;43m.\u001b[39;49m\u001b[43mindexer\u001b[49m\u001b[43m]\u001b[49m \u001b[38;5;241m=\u001b[39m arr\n\u001b[0;32m   1754\u001b[0m     itemmask[rl\u001b[38;5;241m.\u001b[39mindexer] \u001b[38;5;241m=\u001b[39m \u001b[38;5;241m1\u001b[39m\n\u001b[0;32m   1756\u001b[0m \u001b[38;5;28;01mif\u001b[39;00m \u001b[38;5;129;01mnot\u001b[39;00m itemmask\u001b[38;5;241m.\u001b[39mall():\n",
      "\u001b[1;31mValueError\u001b[0m: could not convert string to float: 'Own Home'"
     ]
    }
   ],
   "source": [
    "# 計算相關矩陣\n",
    "correlation_matrix = df.corr()\n",
    "\n",
    "# # 取出與 'Years in current job' 相關的變數，按相關性排序\n",
    "# job_corr = correlation_matrix[\"Years in current job\"].abs().sort_values(ascending=False)\n",
    "\n",
    "# # 顯示前 10 個最相關變數\n",
    "# print(job_corr.head(10))\n"
   ]
  },
  {
   "cell_type": "code",
   "execution_count": null,
   "id": "f143e8bf-daae-42cd-be45-a6798a9a5a71",
   "metadata": {},
   "outputs": [],
   "source": [
    "# 將所有物件也陸續改成數值型 Home Ownership、Purpose、Term "
   ]
  },
  {
   "cell_type": "code",
   "execution_count": null,
   "id": "012e890c-22b0-4841-90d6-710de812b82e",
   "metadata": {},
   "outputs": [],
   "source": [
    "# Home Ownership數值化"
   ]
  },
  {
   "cell_type": "code",
   "execution_count": 16,
   "id": "81046e93-d459-48c1-9c02-a3226d28efde",
   "metadata": {},
   "outputs": [],
   "source": [
    "df['Home Ownership'] = df['Home Ownership'].map({\n",
    "    'Home Mortgage': 1,\n",
    "    'Rent': 2,\n",
    "    'Own Home': 3,\n",
    "    'Have Mortgage': 4,\n",
    "})"
   ]
  },
  {
   "cell_type": "code",
   "execution_count": 17,
   "id": "8dc97fec-483b-4568-ad24-20c18729534f",
   "metadata": {},
   "outputs": [
    {
     "name": "stdout",
     "output_type": "stream",
     "text": [
      "[3 1 2 4]\n"
     ]
    }
   ],
   "source": [
    "print(df['Home Ownership'].unique())"
   ]
  },
  {
   "cell_type": "code",
   "execution_count": null,
   "id": "90542794-60d4-4bb1-b175-190fab1df19f",
   "metadata": {},
   "outputs": [],
   "source": [
    "# Purpose數值化"
   ]
  },
  {
   "cell_type": "code",
   "execution_count": 18,
   "id": "40a636f1-8ef1-4b0a-91b9-15c2342c4ddd",
   "metadata": {},
   "outputs": [],
   "source": [
    "purpose_mapping = {\n",
    "    'debt consolidation': 1,\n",
    "    'other': 2,\n",
    "    'home improvements': 3,\n",
    "    'business loan': 4,\n",
    "    'buy a car': 5,\n",
    "    'medical bills': 6,\n",
    "    'major purchase': 7,\n",
    "    'take a trip': 8,\n",
    "    'buy house': 9,\n",
    "    'small business': 10,\n",
    "    'wedding': 11,\n",
    "    'moving': 12,\n",
    "    'educational expenses': 13,\n",
    "    'vacation': 14,\n",
    "    'renewable energy': 15\n",
    "}\n",
    "\n",
    "df['Purpose'] = df['Purpose'].map(purpose_mapping)"
   ]
  },
  {
   "cell_type": "code",
   "execution_count": 19,
   "id": "2b454be3-8607-4ac1-b85c-eff08e92a01f",
   "metadata": {},
   "outputs": [
    {
     "name": "stdout",
     "output_type": "stream",
     "text": [
      "[ 1  2  3  8  5 10  4 11 13  9  6 12  7 14 15]\n"
     ]
    }
   ],
   "source": [
    "print(df['Purpose'].unique())"
   ]
  },
  {
   "cell_type": "code",
   "execution_count": null,
   "id": "e61e67cb-e505-453b-8c6e-959e5318f3a3",
   "metadata": {},
   "outputs": [],
   "source": [
    "# Term （貸款期限）數值化"
   ]
  },
  {
   "cell_type": "code",
   "execution_count": 20,
   "id": "f26b27ba-f573-4727-afe4-02e82fb9e476",
   "metadata": {},
   "outputs": [],
   "source": [
    "term_mapping = {\n",
    "    'Short Term': 0,\n",
    "    'Long Term': 1\n",
    "}\n",
    "\n",
    "df['Term'] = df['Term'].map(term_mapping)"
   ]
  },
  {
   "cell_type": "code",
   "execution_count": 21,
   "id": "3780e59a-1139-43f8-8cf4-e52c2fbd725a",
   "metadata": {},
   "outputs": [
    {
     "name": "stdout",
     "output_type": "stream",
     "text": [
      "[0 1]\n"
     ]
    }
   ],
   "source": [
    "print(df['Term'].unique())"
   ]
  },
  {
   "cell_type": "code",
   "execution_count": null,
   "id": "7857e062-14d8-40ce-9185-6a5faa79e4b4",
   "metadata": {},
   "outputs": [],
   "source": [
    "# 回到前面的 Years in current job 收尋相關性"
   ]
  },
  {
   "cell_type": "code",
   "execution_count": 22,
   "id": "2290c11e-816e-4ae4-99e4-fe8020a52b04",
   "metadata": {},
   "outputs": [
    {
     "name": "stdout",
     "output_type": "stream",
     "text": [
      "Years in current job         1.000000\n",
      "Years of Credit History      0.234413\n",
      "Home Ownership               0.174522\n",
      "Monthly Debt                 0.125475\n",
      "Current Credit Balance       0.110758\n",
      "Annual Income                0.104059\n",
      "Term                         0.071760\n",
      "Bankruptcies                 0.057838\n",
      "Number of Open Accounts      0.054438\n",
      "Number of Credit Problems    0.049955\n",
      "Name: Years in current job, dtype: float64\n"
     ]
    }
   ],
   "source": [
    "# 計算相關矩陣\n",
    "correlation_matrix = df.corr()\n",
    "\n",
    "# 取出與 'Years in current job' 相關的變數，按相關性排序\n",
    "job_corr = correlation_matrix[\"Years in current job\"].abs().sort_values(ascending=False)\n",
    "\n",
    "# 顯示前 10 個最相關變數\n",
    "print(job_corr.head(10))"
   ]
  },
  {
   "cell_type": "code",
   "execution_count": 24,
   "id": "2618dcd6-adfc-4605-b5cf-f39a609ce106",
   "metadata": {},
   "outputs": [],
   "source": [
    "# 發現與 Years of Credit History相關係數最高分\n",
    "# 再將 Years of Credit History 分為 違約、未違約\n",
    "# 接著 各取其中的 Years in current job 中位數補上"
   ]
  },
  {
   "cell_type": "code",
   "execution_count": 25,
   "id": "d50b4a05-f536-4b61-ac10-a23dc83efde2",
   "metadata": {},
   "outputs": [],
   "source": [
    "# 先找出違約與未違約群體中 \"Years of Credit History\" 出現最多的值\n",
    "most_common_credit_history_default = df[df[\"Credit Default\"] == 1][\"Years of Credit History\"].mode()[0]\n",
    "most_common_credit_history_no_default = df[df[\"Credit Default\"] == 0][\"Years of Credit History\"].mode()[0]\n",
    "\n",
    "# 找出對應的 \"Years in current job\" 的中位數\n",
    "median_job_default = df[(df[\"Credit Default\"] == 1) & \n",
    "                        (df[\"Years of Credit History\"] == most_common_credit_history_default)][\"Years in current job\"].median()\n",
    "\n",
    "median_job_no_default = df[(df[\"Credit Default\"] == 0) & \n",
    "                           (df[\"Years of Credit History\"] == most_common_credit_history_no_default)][\"Years in current job\"].median()\n",
    "\n",
    "# 依據 Credit Default 狀態補值\n",
    "df.loc[(df[\"Credit Default\"] == 1) & (df[\"Years in current job\"].isnull()), \"Years in current job\"] = median_job_default\n",
    "df.loc[(df[\"Credit Default\"] == 0) & (df[\"Years in current job\"].isnull()), \"Years in current job\"] = median_job_no_default\n"
   ]
  },
  {
   "cell_type": "code",
   "execution_count": 26,
   "id": "465c1fe6-f4b3-49dd-8170-0b06ec48c999",
   "metadata": {},
   "outputs": [
    {
     "name": "stdout",
     "output_type": "stream",
     "text": [
      "0\n"
     ]
    }
   ],
   "source": [
    "print(df[\"Years in current job\"].isnull().sum())"
   ]
  },
  {
   "cell_type": "code",
   "execution_count": null,
   "id": "f2dbccdd-c5f7-4ae4-ace8-cc8947309886",
   "metadata": {},
   "outputs": [],
   "source": [
    "# 處理 Months since last delinquent 缺失值 4081個"
   ]
  },
  {
   "cell_type": "code",
   "execution_count": 29,
   "id": "8ac71bc1-2c7b-4eaf-a911-e0d7a187223e",
   "metadata": {},
   "outputs": [
    {
     "name": "stdout",
     "output_type": "stream",
     "text": [
      "[ nan  73.  18.   6.  40.  44.  45.  17.  61.  14.  11.  32.  75.  65.\n",
      "  10.  28.  35.  29.  13.   8.  71.  54.  21.  68.  51.  70.  19.  22.\n",
      "  16.  38.  36.   0.  34.  30.   3.  52.  72.  63.  23.   5.  60.  59.\n",
      "   1.  74.   4.  42.  39.  41.  55.  67.  37.  47.  26.  76.  43.  12.\n",
      "   7.  77.  48.  79.  80.  31.  64.  78.  20.  58.  49.   9.  69.  25.\n",
      "  33.  15.  57.  86.  62.   2.  24.  56.  82.  66.  46.  27.  50.  53.\n",
      "  81.  83. 118.  84.  91.  92.]\n",
      "89\n"
     ]
    }
   ],
   "source": [
    "print(df[\"Months since last delinquent\"].unique())\n",
    "print(df[\"Months since last delinquent\"].nunique())"
   ]
  },
  {
   "cell_type": "code",
   "execution_count": null,
   "id": "6ad8dca7-c7d4-4522-9e2d-c0bc9b77d693",
   "metadata": {},
   "outputs": [],
   "source": [
    "# 1.想知道 nan是否為無違約的人"
   ]
  },
  {
   "cell_type": "code",
   "execution_count": null,
   "id": "448bb1c9-d8c3-403f-8e89-568e5a91dae1",
   "metadata": {},
   "outputs": [],
   "source": []
  },
  {
   "cell_type": "code",
   "execution_count": null,
   "id": "dc9f531e-f9de-42ac-9b38-4e341f5544f8",
   "metadata": {},
   "outputs": [],
   "source": []
  },
  {
   "cell_type": "code",
   "execution_count": null,
   "id": "8558f27e-fdb6-461f-ae9c-5e5513458660",
   "metadata": {},
   "outputs": [],
   "source": []
  },
  {
   "cell_type": "code",
   "execution_count": null,
   "id": "7ac8ccbf-59d1-483f-82ed-8deb27f13f5e",
   "metadata": {},
   "outputs": [],
   "source": []
  },
  {
   "cell_type": "code",
   "execution_count": null,
   "id": "bb31c84d-ad11-4840-b7fd-e689300fd06c",
   "metadata": {},
   "outputs": [],
   "source": []
  },
  {
   "cell_type": "code",
   "execution_count": null,
   "id": "0a3e5b56-e529-4d06-89f3-ec18dbd1019a",
   "metadata": {},
   "outputs": [],
   "source": []
  },
  {
   "cell_type": "code",
   "execution_count": null,
   "id": "31ee0c31-44ec-4527-b1db-86839ddb518b",
   "metadata": {},
   "outputs": [],
   "source": []
  },
  {
   "cell_type": "code",
   "execution_count": null,
   "id": "a616e967-4944-435b-ab6e-337fd4e0ca3e",
   "metadata": {},
   "outputs": [],
   "source": []
  },
  {
   "cell_type": "code",
   "execution_count": null,
   "id": "0e26308d-7c6c-438c-aa40-5b8980d1fd54",
   "metadata": {},
   "outputs": [],
   "source": []
  },
  {
   "cell_type": "code",
   "execution_count": 11,
   "id": "ea2a08e9-639c-41db-becf-6cc7e0e559d0",
   "metadata": {},
   "outputs": [
    {
     "name": "stdout",
     "output_type": "stream",
     "text": [
      "Credit Default\n",
      "0    0.718267\n",
      "1    0.281733\n",
      "Name: proportion, dtype: float64\n"
     ]
    }
   ],
   "source": [
    "print(df[\"Credit Default\"].value_counts(normalize=True))"
   ]
  },
  {
   "cell_type": "code",
   "execution_count": 12,
   "id": "a6505d7c-c538-4a33-af97-a383a8b38474",
   "metadata": {},
   "outputs": [
    {
     "name": "stdout",
     "output_type": "stream",
     "text": [
      "Annual Income\n",
      "500574.0     0.006757\n",
      "482087.0     0.003378\n",
      "1436970.0    0.003378\n",
      "759012.0     0.003378\n",
      "501106.0     0.003378\n",
      "               ...   \n",
      "1047945.0    0.003378\n",
      "1283279.0    0.003378\n",
      "1240320.0    0.003378\n",
      "227867.0     0.003378\n",
      "671270.0     0.003378\n",
      "Name: proportion, Length: 295, dtype: float64\n"
     ]
    }
   ],
   "source": [
    "print(df[df[\"Years in current job\"].isnull()][\"Annual Income\"].value_counts(normalize=True))"
   ]
  },
  {
   "cell_type": "code",
   "execution_count": null,
   "id": "46f983db-19d0-4ade-af48-e076848f93b0",
   "metadata": {},
   "outputs": [],
   "source": []
  },
  {
   "cell_type": "code",
   "execution_count": null,
   "id": "adf3c0db-47cb-4d4b-9460-91408fb04188",
   "metadata": {},
   "outputs": [],
   "source": []
  }
 ],
 "metadata": {
  "kernelspec": {
   "display_name": "Python 3 (ipykernel)",
   "language": "python",
   "name": "python3"
  },
  "language_info": {
   "codemirror_mode": {
    "name": "ipython",
    "version": 3
   },
   "file_extension": ".py",
   "mimetype": "text/x-python",
   "name": "python",
   "nbconvert_exporter": "python",
   "pygments_lexer": "ipython3",
   "version": "3.11.9"
  }
 },
 "nbformat": 4,
 "nbformat_minor": 5
}
